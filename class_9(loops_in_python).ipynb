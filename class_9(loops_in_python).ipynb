{
  "nbformat": 4,
  "nbformat_minor": 0,
  "metadata": {
    "colab": {
      "provenance": []
    },
    "kernelspec": {
      "name": "python3",
      "display_name": "Python 3"
    },
    "language_info": {
      "name": "python"
    }
  },
  "cells": [
    {
      "cell_type": "code",
      "execution_count": null,
      "metadata": {
        "colab": {
          "base_uri": "https://localhost:8080/"
        },
        "id": "cjr9ELWxnKcH",
        "outputId": "98f810e9-ecc8-46fd-f111-73bf42c5f734"
      },
      "outputs": [
        {
          "output_type": "stream",
          "name": "stdout",
          "text": [
            "5.428571428571429\n"
          ]
        }
      ],
      "source": [
        "data=[10,5,6,3,8,4,2]\n",
        "\n",
        "total=0\n",
        "\n",
        "for index in range(len(data)):\n",
        "    total = total+data[index]\n",
        "    \n",
        "mean=total/len(data)\n",
        "print(mean)    "
      ]
    },
    {
      "cell_type": "code",
      "execution_count": null,
      "metadata": {
        "colab": {
          "base_uri": "https://localhost:8080/"
        },
        "outputId": "08fc3293-fdef-4749-b336-3605da253c21",
        "id": "V1CzMZz6qkQW"
      },
      "outputs": [
        {
          "output_type": "stream",
          "name": "stdout",
          "text": [
            "5.428571428571429\n"
          ]
        }
      ],
      "source": [
        "data=[10,5,6,3,8,4,2]\n",
        "total = 0\n",
        "for item in data:\n",
        "    total = total+item\n",
        "\n",
        "print(total/len(data))        "
      ]
    },
    {
      "cell_type": "code",
      "source": [
        "for item in [10,5,6]:\n",
        "    print(item)"
      ],
      "metadata": {
        "colab": {
          "base_uri": "https://localhost:8080/"
        },
        "id": "OO7i0u75qrdp",
        "outputId": "958cf847-8df1-467a-9fca-075f957af561"
      },
      "execution_count": null,
      "outputs": [
        {
          "output_type": "stream",
          "name": "stdout",
          "text": [
            "10\n",
            "5\n",
            "6\n"
          ]
        }
      ]
    },
    {
      "cell_type": "code",
      "source": [
        "car=['Audi','BMW','Tesla']\n",
        "for item in car:\n",
        "    item=item.lower()\n",
        "    print(item)\n"
      ],
      "metadata": {
        "colab": {
          "base_uri": "https://localhost:8080/"
        },
        "id": "lYLUIqaVrmDu",
        "outputId": "8c825d46-ab0a-4fd9-a1e4-b9261f632dc5"
      },
      "execution_count": null,
      "outputs": [
        {
          "output_type": "stream",
          "name": "stdout",
          "text": [
            "audi\n",
            "bmw\n",
            "tesla\n"
          ]
        }
      ]
    },
    {
      "cell_type": "code",
      "source": [
        "cars=\"AUDI\""
      ],
      "metadata": {
        "id": "7I4_2LCysAVa"
      },
      "execution_count": null,
      "outputs": []
    },
    {
      "cell_type": "code",
      "source": [
        "cars.lower()"
      ],
      "metadata": {
        "colab": {
          "base_uri": "https://localhost:8080/",
          "height": 36
        },
        "id": "nQvhGIXDs9RC",
        "outputId": "8e61f4e2-c88f-4064-be30-03362154325b"
      },
      "execution_count": null,
      "outputs": [
        {
          "output_type": "execute_result",
          "data": {
            "text/plain": [
              "'audi'"
            ],
            "application/vnd.google.colaboratory.intrinsic+json": {
              "type": "string"
            }
          },
          "metadata": {},
          "execution_count": 12
        }
      ]
    },
    {
      "cell_type": "code",
      "source": [
        "cars='mercedes'"
      ],
      "metadata": {
        "id": "WXkGzlTTs_B9"
      },
      "execution_count": null,
      "outputs": []
    },
    {
      "cell_type": "code",
      "source": [
        "cars.title()"
      ],
      "metadata": {
        "colab": {
          "base_uri": "https://localhost:8080/",
          "height": 36
        },
        "id": "H8JYL7mCtF7q",
        "outputId": "c6aa678a-c2da-4ce1-9c3c-e19026d2fce2"
      },
      "execution_count": null,
      "outputs": [
        {
          "output_type": "execute_result",
          "data": {
            "text/plain": [
              "'Mercedes'"
            ],
            "application/vnd.google.colaboratory.intrinsic+json": {
              "type": "string"
            }
          },
          "metadata": {},
          "execution_count": 17
        }
      ]
    },
    {
      "cell_type": "code",
      "source": [
        "dat=[2,3,5]\n",
        "for index in dat:\n",
        "    if index%2==0:\n",
        "        print(f\"{index} is even\")\n",
        "    else:\n",
        "         print(f\"{index} is odd\")   \n"
      ],
      "metadata": {
        "colab": {
          "base_uri": "https://localhost:8080/"
        },
        "id": "ZzUtMlqytH7-",
        "outputId": "506bc6f2-811c-41a0-dc06-79b89c196eef"
      },
      "execution_count": null,
      "outputs": [
        {
          "output_type": "stream",
          "name": "stdout",
          "text": [
            "2 is even\n",
            "3 is odd\n",
            "5 is odd\n"
          ]
        }
      ]
    },
    {
      "cell_type": "markdown",
      "source": [
        "# membership operator"
      ],
      "metadata": {
        "id": "-XIh1rbovb3V"
      }
    },
    {
      "cell_type": "code",
      "source": [
        "cars=['BMW','Audi','Tesla','Mercedes']"
      ],
      "metadata": {
        "id": "NCZVTBvnvfou"
      },
      "execution_count": null,
      "outputs": []
    },
    {
      "cell_type": "code",
      "source": [
        "'Audi' in cars # in is a memebership opeartor"
      ],
      "metadata": {
        "colab": {
          "base_uri": "https://localhost:8080/"
        },
        "id": "iIdS3g8yvuy-",
        "outputId": "310ab9f8-1280-489f-9952-a1ec9cb24fb5"
      },
      "execution_count": null,
      "outputs": [
        {
          "output_type": "execute_result",
          "data": {
            "text/plain": [
              "True"
            ]
          },
          "metadata": {},
          "execution_count": 30
        }
      ]
    },
    {
      "cell_type": "code",
      "source": [
        "'Tata' in cars"
      ],
      "metadata": {
        "colab": {
          "base_uri": "https://localhost:8080/"
        },
        "id": "rb51SHk1vyiN",
        "outputId": "6ea2832e-a30c-4954-ce96-b917644f1b2e"
      },
      "execution_count": null,
      "outputs": [
        {
          "output_type": "execute_result",
          "data": {
            "text/plain": [
              "False"
            ]
          },
          "metadata": {},
          "execution_count": 31
        }
      ]
    },
    {
      "cell_type": "code",
      "source": [
        "'Tata' not in cars"
      ],
      "metadata": {
        "colab": {
          "base_uri": "https://localhost:8080/"
        },
        "id": "TSA_CDYEv1Xr",
        "outputId": "b1593935-554b-49b7-f35c-d0c2e491f7fc"
      },
      "execution_count": null,
      "outputs": [
        {
          "output_type": "execute_result",
          "data": {
            "text/plain": [
              "True"
            ]
          },
          "metadata": {},
          "execution_count": 32
        }
      ]
    },
    {
      "cell_type": "code",
      "source": [
        "'Tesla' not in cars"
      ],
      "metadata": {
        "colab": {
          "base_uri": "https://localhost:8080/"
        },
        "id": "yyKX6TuJwAtv",
        "outputId": "361a8953-9c65-455e-ed96-220c760deda4"
      },
      "execution_count": null,
      "outputs": [
        {
          "output_type": "execute_result",
          "data": {
            "text/plain": [
              "False"
            ]
          },
          "metadata": {},
          "execution_count": 33
        }
      ]
    },
    {
      "cell_type": "code",
      "source": [
        "msg=\"hello world\""
      ],
      "metadata": {
        "id": "rCnudLD4wFtr"
      },
      "execution_count": null,
      "outputs": []
    },
    {
      "cell_type": "code",
      "source": [
        "\"hello\" in msg"
      ],
      "metadata": {
        "colab": {
          "base_uri": "https://localhost:8080/"
        },
        "id": "WbqiDDRTwZ8c",
        "outputId": "46881c26-f91a-4030-cb75-d0975b80a23a"
      },
      "execution_count": null,
      "outputs": [
        {
          "output_type": "execute_result",
          "data": {
            "text/plain": [
              "True"
            ]
          },
          "metadata": {},
          "execution_count": 35
        }
      ]
    },
    {
      "cell_type": "markdown",
      "source": [
        "# list methods"
      ],
      "metadata": {
        "id": "qt3KFBWLwoRz"
      }
    },
    {
      "cell_type": "code",
      "source": [
        "cars=['Mercedes','Tesla','BMW','Bentely']"
      ],
      "metadata": {
        "id": "XSp828eOwx-a"
      },
      "execution_count": null,
      "outputs": []
    },
    {
      "cell_type": "code",
      "source": [
        "cars[1]"
      ],
      "metadata": {
        "colab": {
          "base_uri": "https://localhost:8080/",
          "height": 36
        },
        "id": "65O0jQU2w6Cy",
        "outputId": "e31f740b-9e72-430c-e1c9-f4f9e6358969"
      },
      "execution_count": null,
      "outputs": [
        {
          "output_type": "execute_result",
          "data": {
            "text/plain": [
              "'Tesla'"
            ],
            "application/vnd.google.colaboratory.intrinsic+json": {
              "type": "string"
            }
          },
          "metadata": {},
          "execution_count": 7
        }
      ]
    },
    {
      "cell_type": "code",
      "source": [
        "cars[1]='Porsche'# python list is mutable data type"
      ],
      "metadata": {
        "id": "Vq4-J87fw-Gg"
      },
      "execution_count": null,
      "outputs": []
    },
    {
      "cell_type": "code",
      "source": [
        "cars"
      ],
      "metadata": {
        "colab": {
          "base_uri": "https://localhost:8080/"
        },
        "id": "w_4Ywj2uxIYh",
        "outputId": "f661f4cc-132e-4706-c7a9-6a934e09fd37"
      },
      "execution_count": null,
      "outputs": [
        {
          "output_type": "execute_result",
          "data": {
            "text/plain": [
              "['Mercedes', 'Porsche', 'BMW', 'Bentely']"
            ]
          },
          "metadata": {},
          "execution_count": 9
        }
      ]
    },
    {
      "cell_type": "code",
      "source": [
        "id(cars)"
      ],
      "metadata": {
        "colab": {
          "base_uri": "https://localhost:8080/"
        },
        "id": "klvFwRLfxi9M",
        "outputId": "188ea4f3-6933-4105-a26f-0e8fca32752b"
      },
      "execution_count": null,
      "outputs": [
        {
          "output_type": "execute_result",
          "data": {
            "text/plain": [
              "140415238643008"
            ]
          },
          "metadata": {},
          "execution_count": 40
        }
      ]
    },
    {
      "cell_type": "code",
      "source": [
        "cars[2]='Mercedes'"
      ],
      "metadata": {
        "id": "GnUaD1baxlLr"
      },
      "execution_count": null,
      "outputs": []
    },
    {
      "cell_type": "code",
      "source": [
        "cars"
      ],
      "metadata": {
        "colab": {
          "base_uri": "https://localhost:8080/"
        },
        "id": "OmAGQ27XxpxE",
        "outputId": "ab8b8180-47c4-4e5e-fc44-8f10cd1f0527"
      },
      "execution_count": null,
      "outputs": [
        {
          "output_type": "execute_result",
          "data": {
            "text/plain": [
              "['Mercedes', 'Porsche', 'Mercedes', 'Bentely']"
            ]
          },
          "metadata": {},
          "execution_count": 43
        }
      ]
    },
    {
      "cell_type": "code",
      "source": [
        "cars[1:2]=['Bentely','Merceds']"
      ],
      "metadata": {
        "id": "Ula_2dWHxwaN"
      },
      "execution_count": null,
      "outputs": []
    },
    {
      "cell_type": "code",
      "source": [
        "cars"
      ],
      "metadata": {
        "colab": {
          "base_uri": "https://localhost:8080/"
        },
        "id": "V49dH92rx82i",
        "outputId": "ef1ebc51-6457-4b6a-b0b9-272436761014"
      },
      "execution_count": null,
      "outputs": [
        {
          "output_type": "execute_result",
          "data": {
            "text/plain": [
              "['Mercedes', 'Bentely', 'Merceds', 'Mercedes', 'Bentely']"
            ]
          },
          "metadata": {},
          "execution_count": 45
        }
      ]
    },
    {
      "cell_type": "code",
      "source": [
        "fruits=['apple','banana','mango','ornage','kiwi','mango']\n",
        "fruits[1:3]=['blackcuuruent','watermelon']\n",
        "print(fruits)"
      ],
      "metadata": {
        "colab": {
          "base_uri": "https://localhost:8080/"
        },
        "id": "7NZINpJrx95e",
        "outputId": "7c3efb7f-eb33-4ceb-e419-0c5b9a765b52"
      },
      "execution_count": null,
      "outputs": [
        {
          "output_type": "stream",
          "name": "stdout",
          "text": [
            "['apple', 'blackcuuruent', 'watermelon', 'ornage', 'kiwi', 'mango']\n"
          ]
        }
      ]
    },
    {
      "cell_type": "markdown",
      "source": [
        "**.insert()**"
      ],
      "metadata": {
        "id": "KTFvRkgOyYpF"
      }
    },
    {
      "cell_type": "code",
      "source": [
        "fruits=['apple','banana','mango','ornage','kiwi','mango']\n",
        "fruits[1]"
      ],
      "metadata": {
        "colab": {
          "base_uri": "https://localhost:8080/",
          "height": 36
        },
        "outputId": "c6015607-b040-4813-f0ac-0d9c694a459f",
        "id": "6SGyoqOMynaF"
      },
      "execution_count": null,
      "outputs": [
        {
          "output_type": "execute_result",
          "data": {
            "text/plain": [
              "'banana'"
            ],
            "application/vnd.google.colaboratory.intrinsic+json": {
              "type": "string"
            }
          },
          "metadata": {},
          "execution_count": 11
        }
      ]
    },
    {
      "cell_type": "code",
      "source": [
        "fruits.insert(1,'Litchi')"
      ],
      "metadata": {
        "id": "AznhlQbzysJZ"
      },
      "execution_count": null,
      "outputs": []
    },
    {
      "cell_type": "code",
      "source": [
        "fruits"
      ],
      "metadata": {
        "colab": {
          "base_uri": "https://localhost:8080/"
        },
        "id": "XnfOHI2Nyxnc",
        "outputId": "bccbe631-a122-4b5b-e213-e8a9725e44ac"
      },
      "execution_count": null,
      "outputs": [
        {
          "output_type": "execute_result",
          "data": {
            "text/plain": [
              "['apple', 'Litchi', 'banana', 'mango', 'ornage', 'kiwi', 'mango']"
            ]
          },
          "metadata": {},
          "execution_count": 13
        }
      ]
    },
    {
      "cell_type": "code",
      "source": [
        "fruits[1]"
      ],
      "metadata": {
        "colab": {
          "base_uri": "https://localhost:8080/",
          "height": 36
        },
        "id": "R0-C4X95YDvf",
        "outputId": "2499cf8f-7ca1-4b98-afbf-33fd75f154bb"
      },
      "execution_count": null,
      "outputs": [
        {
          "output_type": "execute_result",
          "data": {
            "text/plain": [
              "'Litchi'"
            ],
            "application/vnd.google.colaboratory.intrinsic+json": {
              "type": "string"
            }
          },
          "metadata": {},
          "execution_count": 14
        }
      ]
    },
    {
      "cell_type": "markdown",
      "source": [
        "**list.append()** # append vaneko pachadi add gardo raixa"
      ],
      "metadata": {
        "id": "DA8fK6-VzHnT"
      }
    },
    {
      "cell_type": "code",
      "source": [
        "name=[]"
      ],
      "metadata": {
        "id": "y_zwj6uSzOaF"
      },
      "execution_count": null,
      "outputs": []
    },
    {
      "cell_type": "code",
      "source": [
        "name"
      ],
      "metadata": {
        "colab": {
          "base_uri": "https://localhost:8080/"
        },
        "id": "-XNcoNSxzUWk",
        "outputId": "efd67aba-7bb2-4ff1-841a-aa212e35b40d"
      },
      "execution_count": null,
      "outputs": [
        {
          "output_type": "execute_result",
          "data": {
            "text/plain": [
              "[]"
            ]
          },
          "metadata": {},
          "execution_count": 54
        }
      ]
    },
    {
      "cell_type": "code",
      "source": [
        "name.append(\"riya\")"
      ],
      "metadata": {
        "id": "dE4ZsmdGzVUN"
      },
      "execution_count": null,
      "outputs": []
    },
    {
      "cell_type": "code",
      "source": [
        "name"
      ],
      "metadata": {
        "colab": {
          "base_uri": "https://localhost:8080/"
        },
        "id": "x1IVg46yzgrI",
        "outputId": "ad62d15f-3c71-42e8-a843-e8cd1b3ad982"
      },
      "execution_count": null,
      "outputs": [
        {
          "output_type": "execute_result",
          "data": {
            "text/plain": [
              "['riya']"
            ]
          },
          "metadata": {},
          "execution_count": 58
        }
      ]
    },
    {
      "cell_type": "code",
      "source": [
        "name.append(\"ram\")"
      ],
      "metadata": {
        "id": "Ch_raNVUzhev"
      },
      "execution_count": null,
      "outputs": []
    },
    {
      "cell_type": "code",
      "source": [
        "name\n"
      ],
      "metadata": {
        "colab": {
          "base_uri": "https://localhost:8080/"
        },
        "id": "bA3ab1kOzlgQ",
        "outputId": "d4cdb26a-dda4-4f09-c4d8-243369847d82"
      },
      "execution_count": null,
      "outputs": [
        {
          "output_type": "execute_result",
          "data": {
            "text/plain": [
              "['riya', 'ram']"
            ]
          },
          "metadata": {},
          "execution_count": 60
        }
      ]
    },
    {
      "cell_type": "code",
      "source": [
        "name.append(\"sita\")"
      ],
      "metadata": {
        "id": "NIUkfejrzmsV"
      },
      "execution_count": null,
      "outputs": []
    },
    {
      "cell_type": "code",
      "source": [
        "name"
      ],
      "metadata": {
        "colab": {
          "base_uri": "https://localhost:8080/"
        },
        "id": "Vd8OFFnhzv9_",
        "outputId": "4c0c48f6-f59d-431c-b01d-17a5db1999ee"
      },
      "execution_count": null,
      "outputs": [
        {
          "output_type": "execute_result",
          "data": {
            "text/plain": [
              "['riya', 'ram', 'siat']"
            ]
          },
          "metadata": {},
          "execution_count": 62
        }
      ]
    },
    {
      "cell_type": "code",
      "source": [
        "name.append(\"gita\")"
      ],
      "metadata": {
        "id": "JRQAUL7mzwuB"
      },
      "execution_count": null,
      "outputs": []
    },
    {
      "cell_type": "code",
      "source": [
        "name"
      ],
      "metadata": {
        "colab": {
          "base_uri": "https://localhost:8080/"
        },
        "id": "h65TcvsDz1iE",
        "outputId": "6e302d54-38bf-4be8-fc51-f452ef10b861"
      },
      "execution_count": null,
      "outputs": [
        {
          "output_type": "execute_result",
          "data": {
            "text/plain": [
              "['riya', 'ram', 'siat', 'gita', 'sita', 'gita']"
            ]
          },
          "metadata": {},
          "execution_count": 68
        }
      ]
    },
    {
      "cell_type": "code",
      "source": [
        "name=[]\n",
        "name.append(\"kathmandu\")\n",
        "name.append(\"pokhara\")\n",
        "print(name)"
      ],
      "metadata": {
        "colab": {
          "base_uri": "https://localhost:8080/"
        },
        "id": "DKpRvJ5c0qDc",
        "outputId": "2e79d54d-5a95-4136-a009-786da062a90d"
      },
      "execution_count": null,
      "outputs": [
        {
          "output_type": "stream",
          "name": "stdout",
          "text": [
            "['kathmandu', 'pokhara']\n"
          ]
        }
      ]
    },
    {
      "cell_type": "code",
      "source": [
        "std_name=[]\n",
        "\n",
        "for index in range(5):\n",
        "    name = input(\"Enter student name:\")\n",
        "    std_name.append(name)\n",
        "print(std_name)    \n"
      ],
      "metadata": {
        "colab": {
          "base_uri": "https://localhost:8080/"
        },
        "id": "X551_UAF0_Cn",
        "outputId": "961b6f5e-055b-47c1-ef3a-17894f1d18c8"
      },
      "execution_count": null,
      "outputs": [
        {
          "output_type": "stream",
          "name": "stdout",
          "text": [
            "Enter student name:riya\n",
            "Enter student name:gita\n",
            "Enter student name:sita\n",
            "Enter student name:jeevan\n",
            "Enter student name:pruya\n",
            "['riya', 'gita', 'sita', 'jeevan', 'pruya']\n"
          ]
        }
      ]
    },
    {
      "cell_type": "code",
      "source": [
        "std_city=[]\n",
        "\n",
        "for index in range(5):\n",
        "    name=input(\"enter a city:\")\n",
        "    std_city.append(name)\n",
        "print(std_city)    \n"
      ],
      "metadata": {
        "colab": {
          "base_uri": "https://localhost:8080/"
        },
        "id": "Ixqxgbtm1UKd",
        "outputId": "35c72daa-8d3a-4937-c101-b8ad45328476"
      },
      "execution_count": null,
      "outputs": [
        {
          "output_type": "stream",
          "name": "stdout",
          "text": [
            "enter a city:ktn\n",
            "enter a city:lalitpur\n",
            "enter a city:dhran\n",
            "enter a city:patan\n",
            "enter a city:pokhara\n",
            "['ktn', 'lalitpur', 'dhran', 'patan', 'pokhara']\n"
          ]
        }
      ]
    },
    {
      "cell_type": "markdown",
      "source": [
        "Q.) WAP to collect square  and cube of each number of list \n",
        "nums = [2,4,3,9,1,7]\n"
      ],
      "metadata": {
        "id": "q3-X18rH2U1x"
      }
    },
    {
      "cell_type": "markdown",
      "source": [
        "# .remove"
      ],
      "metadata": {
        "id": "4I2-WMDA3XAg"
      }
    },
    {
      "cell_type": "code",
      "source": [
        "fruits=['apple','banana','mango','ornage','kiwi','mango']\n",
        "fruits.remove('mango')\n",
        "fruits"
      ],
      "metadata": {
        "colab": {
          "base_uri": "https://localhost:8080/"
        },
        "outputId": "33634afe-99ba-4445-f24e-8a0740cd6196",
        "id": "BKK1VDEJ3f6Q"
      },
      "execution_count": null,
      "outputs": [
        {
          "output_type": "execute_result",
          "data": {
            "text/plain": [
              "['apple', 'banana', 'ornage', 'kiwi', 'mango']"
            ]
          },
          "metadata": {},
          "execution_count": 78
        }
      ]
    },
    {
      "cell_type": "markdown",
      "source": [
        ".pop()-pachadi nikaldai janxa"
      ],
      "metadata": {
        "id": "16Jb28iZ3yz7"
      }
    },
    {
      "cell_type": "code",
      "source": [
        "fruits=['apple','banana','mango','ornage','kiwi','mango']\n",
        "fruits.pop()"
      ],
      "metadata": {
        "colab": {
          "base_uri": "https://localhost:8080/",
          "height": 36
        },
        "outputId": "5f0b437a-483e-4409-c898-f91c5ca1f0a6",
        "id": "q5P_Pxua39VB"
      },
      "execution_count": null,
      "outputs": [
        {
          "output_type": "execute_result",
          "data": {
            "text/plain": [
              "'mango'"
            ],
            "application/vnd.google.colaboratory.intrinsic+json": {
              "type": "string"
            }
          },
          "metadata": {},
          "execution_count": 81
        }
      ]
    },
    {
      "cell_type": "code",
      "source": [
        "fruits"
      ],
      "metadata": {
        "colab": {
          "base_uri": "https://localhost:8080/"
        },
        "id": "11KXqIIN4AcX",
        "outputId": "43861624-a613-4ffb-eea7-57515348e8cc"
      },
      "execution_count": null,
      "outputs": [
        {
          "output_type": "execute_result",
          "data": {
            "text/plain": [
              "['apple', 'banana', 'mango', 'ornage', 'kiwi']"
            ]
          },
          "metadata": {},
          "execution_count": 83
        }
      ]
    },
    {
      "cell_type": "code",
      "source": [
        "#STACK DATA STRUCTURE:(imp)\n",
        "# append le push ko kam garxa  :last ma value add garxa\n",
        "# pop le pop garxa:last ko value falxa(append le add gareko value lai falxa)\n",
        "# python list can be used as stack daata strucuture\n",
        "# appends acts aas push operator\n",
        "# pop acts as pop operator\n",
        "# stack works in a LIFO (last in first out principle)\n",
        "# eg.stack -- boo stack: jun book last ma thapinxa tei paila nikalna milxa(v.v.imp)"
      ],
      "metadata": {
        "id": "Q-nXbwhn4E3s"
      },
      "execution_count": null,
      "outputs": []
    },
    {
      "cell_type": "code",
      "source": [
        "# .extend()\n",
        "name=[]\n",
        "name.extend('riya')\n",
        "name"
      ],
      "metadata": {
        "id": "T6ENwlxj4cdg",
        "colab": {
          "base_uri": "https://localhost:8080/"
        },
        "outputId": "4b27b619-d080-4b71-e249-e8ad3b1600b3"
      },
      "execution_count": null,
      "outputs": [
        {
          "output_type": "execute_result",
          "data": {
            "text/plain": [
              "['r', 'i', 'y', 'a']"
            ]
          },
          "metadata": {},
          "execution_count": 16
        }
      ]
    },
    {
      "cell_type": "code",
      "source": [
        "fruit=['apple','banana']\n",
        "vegetable=['Karela','Bhanta','Ghiraula','Lauka','Potato']"
      ],
      "metadata": {
        "id": "cPOiuU92jOK0"
      },
      "execution_count": null,
      "outputs": []
    },
    {
      "cell_type": "code",
      "source": [
        "fruit+vegetable # concat list"
      ],
      "metadata": {
        "colab": {
          "base_uri": "https://localhost:8080/"
        },
        "id": "VzFQ71SvjmyK",
        "outputId": "85c448c5-5d23-4e95-aad0-8c1a32e9c2c2"
      },
      "execution_count": null,
      "outputs": [
        {
          "output_type": "execute_result",
          "data": {
            "text/plain": [
              "['apple', 'banana', 'Karela', 'Bhanta', 'Ghiraula', 'Lauka', 'Potato']"
            ]
          },
          "metadata": {},
          "execution_count": 6
        }
      ]
    },
    {
      "cell_type": "code",
      "source": [
        "fruit=['apple','banana']\n",
        "vegetable=['Karela','Bhanta','Ghiraula','Lauka','Potato']\n",
        "fruit.extend(vegetable)"
      ],
      "metadata": {
        "id": "eUomcbcskLun"
      },
      "execution_count": null,
      "outputs": []
    },
    {
      "cell_type": "code",
      "source": [
        "fruit"
      ],
      "metadata": {
        "colab": {
          "base_uri": "https://localhost:8080/"
        },
        "id": "1CYeqGE7kR4s",
        "outputId": "0b98eb3f-8e6c-4021-9501-1798afe9534c"
      },
      "execution_count": null,
      "outputs": [
        {
          "output_type": "execute_result",
          "data": {
            "text/plain": [
              "['apple', 'banana', 'Karela', 'Bhanta', 'Ghiraula', 'Lauka', 'Potato']"
            ]
          },
          "metadata": {},
          "execution_count": 9
        }
      ]
    },
    {
      "cell_type": "code",
      "source": [
        "vegetable # extend le vegetable lai fruit bata extend garxa"
      ],
      "metadata": {
        "colab": {
          "base_uri": "https://localhost:8080/"
        },
        "id": "87iWny0UkVd2",
        "outputId": "2d214177-2189-42d3-b056-861b8961a8e0"
      },
      "execution_count": null,
      "outputs": [
        {
          "output_type": "execute_result",
          "data": {
            "text/plain": [
              "['Karela', 'Bhanta', 'Ghiraula', 'Lauka', 'Potato']"
            ]
          },
          "metadata": {},
          "execution_count": 10
        }
      ]
    },
    {
      "cell_type": "code",
      "source": [
        "# .clear\n",
        "name.clear()"
      ],
      "metadata": {
        "id": "mgP6z2VhdMes"
      },
      "execution_count": null,
      "outputs": []
    },
    {
      "cell_type": "code",
      "source": [
        "name"
      ],
      "metadata": {
        "colab": {
          "base_uri": "https://localhost:8080/"
        },
        "id": "CQfVi-NHevgK",
        "outputId": "9e8902f2-862f-408b-a120-476a7f3e29ab"
      },
      "execution_count": null,
      "outputs": [
        {
          "output_type": "execute_result",
          "data": {
            "text/plain": [
              "[]"
            ]
          },
          "metadata": {},
          "execution_count": 18
        }
      ]
    },
    {
      "cell_type": "code",
      "source": [
        "# .count()-auta list ma kati choti aauta varivale repeat vako xa tyo denote garxa\n",
        "num=['1','2','3','4','5','6','7','8','9','1','2','1','1','4']\n",
        "num.count('1')"
      ],
      "metadata": {
        "colab": {
          "base_uri": "https://localhost:8080/"
        },
        "id": "zPkF61hJgOfO",
        "outputId": "4c699dfa-894f-4511-d72e-469c6d0b41a1"
      },
      "execution_count": null,
      "outputs": [
        {
          "output_type": "execute_result",
          "data": {
            "text/plain": [
              "4"
            ]
          },
          "metadata": {},
          "execution_count": 19
        }
      ]
    },
    {
      "cell_type": "code",
      "source": [
        "num.clear()"
      ],
      "metadata": {
        "id": "pV-EEuByhM3H"
      },
      "execution_count": null,
      "outputs": []
    },
    {
      "cell_type": "code",
      "source": [
        "num"
      ],
      "metadata": {
        "colab": {
          "base_uri": "https://localhost:8080/"
        },
        "id": "-y4D6iWGhOab",
        "outputId": "bf15a283-618f-4585-b7a7-d7444cbcae03"
      },
      "execution_count": null,
      "outputs": [
        {
          "output_type": "execute_result",
          "data": {
            "text/plain": [
              "[]"
            ]
          },
          "metadata": {},
          "execution_count": 21
        }
      ]
    },
    {
      "cell_type": "code",
      "source": [
        "# .reverse\n",
        "num=['1','2','3','4','5','6','7','8','9','1','2','1','1','4']\n"
      ],
      "metadata": {
        "id": "wuJD1UFMhyH_"
      },
      "execution_count": null,
      "outputs": []
    },
    {
      "cell_type": "code",
      "source": [
        "num.reverse()"
      ],
      "metadata": {
        "id": "TUwJ-WkQh0um"
      },
      "execution_count": null,
      "outputs": []
    },
    {
      "cell_type": "code",
      "source": [
        "num"
      ],
      "metadata": {
        "colab": {
          "base_uri": "https://localhost:8080/"
        },
        "id": "K6S9Lzcgh2jH",
        "outputId": "77901ecb-e3b0-4ac4-9bc7-d8b15cb8f522"
      },
      "execution_count": null,
      "outputs": [
        {
          "output_type": "execute_result",
          "data": {
            "text/plain": [
              "['4', '1', '1', '2', '1', '9', '8', '7', '6', '5', '4', '3', '2', '1']"
            ]
          },
          "metadata": {},
          "execution_count": 24
        }
      ]
    },
    {
      "cell_type": "code",
      "source": [
        "# .copy\n",
        "num.copy()"
      ],
      "metadata": {
        "colab": {
          "base_uri": "https://localhost:8080/"
        },
        "id": "J9WytR7Ih3my",
        "outputId": "f4566e0a-2c23-4279-cf17-1d31a8ba999b"
      },
      "execution_count": null,
      "outputs": [
        {
          "output_type": "execute_result",
          "data": {
            "text/plain": [
              "['4', '1', '1', '2', '1', '9', '8', '7', '6', '5', '4', '3', '2', '1']"
            ]
          },
          "metadata": {},
          "execution_count": 25
        }
      ]
    },
    {
      "cell_type": "code",
      "source": [
        "# .sort()\n",
        "a=['a','b','d','c','f','a','e'] # similar word ra order anusar milaunxa\n",
        "a.sort()\n",
        "a"
      ],
      "metadata": {
        "colab": {
          "base_uri": "https://localhost:8080/"
        },
        "id": "4aM6bkgGP28a",
        "outputId": "2c9d10c0-e7e5-4e71-a6d7-756a7392a8ac"
      },
      "execution_count": null,
      "outputs": [
        {
          "output_type": "execute_result",
          "data": {
            "text/plain": [
              "['a', 'a', 'b', 'c', 'd', 'e', 'f']"
            ]
          },
          "metadata": {},
          "execution_count": 1
        }
      ]
    },
    {
      "cell_type": "code",
      "source": [
        "# .sort-similar word/num lai sangai lera arrange garxa\n",
        "num=['1','2','3','4','5','6','7','8','9','1','2','1','1','4']\n",
        "num.sort()\n",
        "num"
      ],
      "metadata": {
        "colab": {
          "base_uri": "https://localhost:8080/"
        },
        "outputId": "1c555c58-a9a0-4030-9012-17a4e9a8c4e9",
        "id": "7SzjPgBRijD-"
      },
      "execution_count": null,
      "outputs": [
        {
          "output_type": "execute_result",
          "data": {
            "text/plain": [
              "['1', '1', '1', '1', '2', '2', '3', '4', '4', '5', '6', '7', '8', '9']"
            ]
          },
          "metadata": {},
          "execution_count": 8
        }
      ]
    },
    {
      "cell_type": "code",
      "source": [
        "nums=[-8,-44,0,1,99,3,-6] # sort python list sums on ascending order\n",
        "nums.sort()\n",
        "nums"
      ],
      "metadata": {
        "colab": {
          "base_uri": "https://localhost:8080/"
        },
        "id": "yZ2OofrUiUIS",
        "outputId": "58217ef1-6dcc-4c90-d5e2-7dd6e0417208"
      },
      "execution_count": null,
      "outputs": [
        {
          "output_type": "execute_result",
          "data": {
            "text/plain": [
              "[-44, -8, -6, 0, 1, 3, 99]"
            ]
          },
          "metadata": {},
          "execution_count": 7
        }
      ]
    },
    {
      "cell_type": "code",
      "source": [
        "nums=[-8,-44,0,1,99,3,-6] # updates list no need to assign  to variable\n",
        "nums.sort(reverse=True)\n",
        "nums"
      ],
      "metadata": {
        "colab": {
          "base_uri": "https://localhost:8080/"
        },
        "outputId": "20e92232-7389-4f8f-a815-f31f68844b18",
        "id": "gtRAmGKoilHf"
      },
      "execution_count": null,
      "outputs": [
        {
          "output_type": "execute_result",
          "data": {
            "text/plain": [
              "[99, 3, 1, 0, -6, -8, -44]"
            ]
          },
          "metadata": {},
          "execution_count": 3
        }
      ]
    },
    {
      "cell_type": "code",
      "source": [
        "# .index\n",
        "num.index('1') # 1 kun position ma xa tyo herxa"
      ],
      "metadata": {
        "colab": {
          "base_uri": "https://localhost:8080/"
        },
        "id": "b6grDttrlx-O",
        "outputId": "211f08e9-c1cf-4f23-9408-08e33e331221"
      },
      "execution_count": null,
      "outputs": [
        {
          "output_type": "execute_result",
          "data": {
            "text/plain": [
              "0"
            ]
          },
          "metadata": {},
          "execution_count": 9
        }
      ]
    },
    {
      "cell_type": "code",
      "source": [
        "num.index('1',1) # first 1 zero position ma xa tyaspaxi tyo positiion ko 1 number badayera cheack garxa arko 1 ko position herxa "
      ],
      "metadata": {
        "colab": {
          "base_uri": "https://localhost:8080/"
        },
        "id": "eBPgcEN6mDZo",
        "outputId": "c8cfd526-74ae-46d5-ec39-7bd4a4c19304"
      },
      "execution_count": null,
      "outputs": [
        {
          "output_type": "execute_result",
          "data": {
            "text/plain": [
              "1"
            ]
          },
          "metadata": {},
          "execution_count": 10
        }
      ]
    },
    {
      "cell_type": "code",
      "source": [
        "fruits = ['orange', 'apple', 'pear', 'banana', 'kiwi', 'apple', 'banana']\n",
        "fruits.count('apple')\n",
        "2\n",
        "fruits.count('tangerine')\n",
        "0\n",
        "fruits.index('banana')\n",
        "3\n",
        "fruits.index('banana', 4)  # Find next banana starting at position 4\n",
        "6\n",
        "fruits.reverse()\n",
        "fruits\n",
        "['banana', 'apple', 'kiwi', 'banana', 'pear', 'apple', 'orange']\n",
        "fruits.append('grape')\n",
        "fruits\n",
        "['banana', 'apple', 'kiwi', 'banana', 'pear', 'apple', 'orange', 'grape']\n",
        "fruits.sort()\n",
        "fruits\n",
        "['apple', 'apple', 'banana', 'banana', 'grape', 'kiwi', 'orange', 'pear']\n",
        "fruits.pop()\n",
        "'pear'"
      ],
      "metadata": {
        "colab": {
          "base_uri": "https://localhost:8080/",
          "height": 36
        },
        "id": "KmAA6s5bil7R",
        "outputId": "7f69a294-c9aa-4130-cdfe-7132e0399287"
      },
      "execution_count": null,
      "outputs": [
        {
          "output_type": "execute_result",
          "data": {
            "text/plain": [
              "'pear'"
            ],
            "application/vnd.google.colaboratory.intrinsic+json": {
              "type": "string"
            }
          },
          "metadata": {},
          "execution_count": 28
        }
      ]
    },
    {
      "cell_type": "code",
      "source": [],
      "metadata": {
        "id": "WEvDE-BLlpiZ"
      },
      "execution_count": null,
      "outputs": []
    }
  ]
}